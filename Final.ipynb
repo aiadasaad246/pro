{
 "cells": [
  {
   "cell_type": "markdown",
   "metadata": {
    "id": "yyWcrbrwtswF"
   },
   "source": [
    "\n",
    "# Project: Bank Marketing\n",
    "\n",
    "\n"
   ]
  },
  {
   "cell_type": "markdown",
   "metadata": {
    "id": "PUK__Vaq7KTd"
   },
   "source": [
    "## Table of Contents\n"
   ]
  },
  {
   "cell_type": "markdown",
   "metadata": {
    "id": "uE-G7Ze47R1B"
   },
   "source": [
    "<ul>\n",
    "<li><a href=\"#intro\">Problem definition and motivation</a></li>\n",
    "<li><a href=\"#General Properties\">General Properties</a></li>\n",
    "<li><a href=\"#Data Cleaning\">Data Cleaning</a></li>\n",
    "<li><a href=\"#eda\">Data exploration and preprocessing</a></li>\n",
    "<li><a href=\"#classification\"> Fit different classification models </a></li>\n",
    "<li><a href=\"#conclusions\">Conclusions</a></li>\n",
    "</ul>\n"
   ]
  },
  {
   "cell_type": "markdown",
   "metadata": {
    "id": "M7OPewR7tswV"
   },
   "source": [
    "<a id='intro'></a>\n",
    "## Problem definition and motivation\n",
    "\n"
   ]
  },
  {
   "cell_type": "markdown",
   "metadata": {
    "id": "g3s7oH7V6P_X"
   },
   "source": [
    ">  Marketing is such a crucial thing for any business. It may determine if the business is going to\n",
    "succeed or not. The project we are trying to tackle is the effectiveness of a certain marketing technique\n",
    "with a certain target audience. More specifically, we want to predict if a bank’s marketing campaign will\n",
    "drive people to deposit money in the bank with the knowledge of their personal information such as\n",
    "age, job, marital status and education and other information as the last time he was contacted by us. The data was collected for a marketing campaign from bank clients to determine whether the\n",
    "client will subscribe to a term deposit or not. It consists of 45,211 rows and 17 columns\n",
    "The data attributes are divided into input variables - information about the client - and output which is a\n",
    "subscription to a term deposit.\n"
   ]
  },
  {
   "cell_type": "code",
   "execution_count": 4,
   "metadata": {},
   "outputs": [
    {
     "name": "stdout",
     "output_type": "stream",
     "text": [
      "Collecting imblearn\n",
      "  Using cached imblearn-0.0-py2.py3-none-any.whl (1.9 kB)\n",
      "Collecting imbalanced-learn\n",
      "  Using cached imbalanced_learn-0.8.0-py3-none-any.whl (206 kB)\n",
      "Requirement already satisfied: numpy>=1.13.3 in c:\\users\\edgem\\anaconda3\\lib\\site-packages (from imbalanced-learn->imblearn) (1.19.2)\n",
      "Requirement already satisfied: scikit-learn>=0.24 in c:\\users\\edgem\\anaconda3\\lib\\site-packages (from imbalanced-learn->imblearn) (0.24.2)\n",
      "Requirement already satisfied: scipy>=0.19.1 in c:\\users\\edgem\\anaconda3\\lib\\site-packages (from imbalanced-learn->imblearn) (1.5.2)\n",
      "Requirement already satisfied: joblib>=0.11 in c:\\users\\edgem\\anaconda3\\lib\\site-packages (from imbalanced-learn->imblearn) (0.17.0)\n",
      "Requirement already satisfied: threadpoolctl>=2.0.0 in c:\\users\\edgem\\anaconda3\\lib\\site-packages (from scikit-learn>=0.24->imbalanced-learn->imblearn) (2.1.0)\n",
      "Installing collected packages: imbalanced-learn, imblearn\n",
      "Successfully installed imbalanced-learn-0.8.0 imblearn-0.0\n"
     ]
    }
   ],
   "source": [
    "!pip install imblearn --user"
   ]
  },
  {
   "cell_type": "code",
   "execution_count": 1,
   "metadata": {
    "colab": {
     "base_uri": "https://localhost:8080/"
    },
    "id": "SyikCUErtswW",
    "outputId": "7d612dd0-f58d-4802-ccf2-399b3f78ac3a"
   },
   "outputs": [],
   "source": [
    " # First I import the packages that I will  use to facilitate the process of analysis the dataset\n",
    "import pandas as pd\n",
    "import numpy as np\n",
    "import matplotlib.pyplot as plt\n",
    "import seaborn as sns\n",
    "from sklearn.model_selection import train_test_split\n",
    "from sklearn.ensemble import RandomForestClassifier\n",
    "from sklearn.ensemble import AdaBoostClassifier\n",
    "from xgboost.sklearn import XGBClassifier\n",
    "from sklearn import metrics\n",
    "from sklearn.metrics import confusion_matrix\n",
    "from sklearn.metrics import precision_score, recall_score, accuracy_score, f1_score\n",
    "from sklearn.model_selection import RandomizedSearchCV\n",
    "from sklearn.model_selection import GridSearchCV\n",
    "\n",
    "from imblearn.over_sampling import ( SMOTE, ADASYN)\n",
    "\n",
    "import warnings\n",
    "warnings.filterwarnings('ignore')\n",
    "\n",
    "%matplotlib inline"
   ]
  },
  {
   "cell_type": "code",
   "execution_count": null,
   "metadata": {},
   "outputs": [],
   "source": []
  },
  {
   "cell_type": "markdown",
   "metadata": {
    "id": "-IblDE29tswY"
   },
   "source": [
    "<a id='General Properties'></a>\n",
    "## General Properties\n",
    "\n"
   ]
  },
  {
   "cell_type": "markdown",
   "metadata": {
    "id": "s5X2eW4lZ4nP"
   },
   "source": [
    "**The data are collected via phone calls by a Portuguese retail bank, from May 2008 to June 2013.**"
   ]
  },
  {
   "cell_type": "code",
   "execution_count": null,
   "metadata": {
    "colab": {
     "base_uri": "https://localhost:8080/",
     "height": 379
    },
    "id": "FHal0z6WtswY",
    "outputId": "658c2335-f1fd-4cbc-bd26-69fe4badc89d"
   },
   "outputs": [
    {
     "data": {
      "text/html": [
       "<div>\n",
       "<style scoped>\n",
       "    .dataframe tbody tr th:only-of-type {\n",
       "        vertical-align: middle;\n",
       "    }\n",
       "\n",
       "    .dataframe tbody tr th {\n",
       "        vertical-align: top;\n",
       "    }\n",
       "\n",
       "    .dataframe thead th {\n",
       "        text-align: right;\n",
       "    }\n",
       "</style>\n",
       "<table border=\"1\" class=\"dataframe\">\n",
       "  <thead>\n",
       "    <tr style=\"text-align: right;\">\n",
       "      <th></th>\n",
       "      <th>age</th>\n",
       "      <th>job</th>\n",
       "      <th>marital</th>\n",
       "      <th>education</th>\n",
       "      <th>default</th>\n",
       "      <th>balance</th>\n",
       "      <th>housing</th>\n",
       "      <th>loan</th>\n",
       "      <th>contact</th>\n",
       "      <th>day</th>\n",
       "      <th>month</th>\n",
       "      <th>duration</th>\n",
       "      <th>campaign</th>\n",
       "      <th>pdays</th>\n",
       "      <th>previous</th>\n",
       "      <th>poutcome</th>\n",
       "      <th>y</th>\n",
       "    </tr>\n",
       "  </thead>\n",
       "  <tbody>\n",
       "    <tr>\n",
       "      <th>0</th>\n",
       "      <td>58</td>\n",
       "      <td>management</td>\n",
       "      <td>married</td>\n",
       "      <td>tertiary</td>\n",
       "      <td>no</td>\n",
       "      <td>2143</td>\n",
       "      <td>yes</td>\n",
       "      <td>no</td>\n",
       "      <td>unknown</td>\n",
       "      <td>5</td>\n",
       "      <td>may</td>\n",
       "      <td>261</td>\n",
       "      <td>1</td>\n",
       "      <td>-1</td>\n",
       "      <td>0</td>\n",
       "      <td>unknown</td>\n",
       "      <td>no</td>\n",
       "    </tr>\n",
       "    <tr>\n",
       "      <th>1</th>\n",
       "      <td>44</td>\n",
       "      <td>technician</td>\n",
       "      <td>single</td>\n",
       "      <td>secondary</td>\n",
       "      <td>no</td>\n",
       "      <td>29</td>\n",
       "      <td>yes</td>\n",
       "      <td>no</td>\n",
       "      <td>unknown</td>\n",
       "      <td>5</td>\n",
       "      <td>may</td>\n",
       "      <td>151</td>\n",
       "      <td>1</td>\n",
       "      <td>-1</td>\n",
       "      <td>0</td>\n",
       "      <td>unknown</td>\n",
       "      <td>no</td>\n",
       "    </tr>\n",
       "    <tr>\n",
       "      <th>2</th>\n",
       "      <td>33</td>\n",
       "      <td>entrepreneur</td>\n",
       "      <td>married</td>\n",
       "      <td>secondary</td>\n",
       "      <td>no</td>\n",
       "      <td>2</td>\n",
       "      <td>yes</td>\n",
       "      <td>yes</td>\n",
       "      <td>unknown</td>\n",
       "      <td>5</td>\n",
       "      <td>may</td>\n",
       "      <td>76</td>\n",
       "      <td>1</td>\n",
       "      <td>-1</td>\n",
       "      <td>0</td>\n",
       "      <td>unknown</td>\n",
       "      <td>no</td>\n",
       "    </tr>\n",
       "    <tr>\n",
       "      <th>3</th>\n",
       "      <td>47</td>\n",
       "      <td>blue-collar</td>\n",
       "      <td>married</td>\n",
       "      <td>unknown</td>\n",
       "      <td>no</td>\n",
       "      <td>1506</td>\n",
       "      <td>yes</td>\n",
       "      <td>no</td>\n",
       "      <td>unknown</td>\n",
       "      <td>5</td>\n",
       "      <td>may</td>\n",
       "      <td>92</td>\n",
       "      <td>1</td>\n",
       "      <td>-1</td>\n",
       "      <td>0</td>\n",
       "      <td>unknown</td>\n",
       "      <td>no</td>\n",
       "    </tr>\n",
       "    <tr>\n",
       "      <th>4</th>\n",
       "      <td>33</td>\n",
       "      <td>unknown</td>\n",
       "      <td>single</td>\n",
       "      <td>unknown</td>\n",
       "      <td>no</td>\n",
       "      <td>1</td>\n",
       "      <td>no</td>\n",
       "      <td>no</td>\n",
       "      <td>unknown</td>\n",
       "      <td>5</td>\n",
       "      <td>may</td>\n",
       "      <td>198</td>\n",
       "      <td>1</td>\n",
       "      <td>-1</td>\n",
       "      <td>0</td>\n",
       "      <td>unknown</td>\n",
       "      <td>no</td>\n",
       "    </tr>\n",
       "    <tr>\n",
       "      <th>5</th>\n",
       "      <td>35</td>\n",
       "      <td>management</td>\n",
       "      <td>married</td>\n",
       "      <td>tertiary</td>\n",
       "      <td>no</td>\n",
       "      <td>231</td>\n",
       "      <td>yes</td>\n",
       "      <td>no</td>\n",
       "      <td>unknown</td>\n",
       "      <td>5</td>\n",
       "      <td>may</td>\n",
       "      <td>139</td>\n",
       "      <td>1</td>\n",
       "      <td>-1</td>\n",
       "      <td>0</td>\n",
       "      <td>unknown</td>\n",
       "      <td>no</td>\n",
       "    </tr>\n",
       "    <tr>\n",
       "      <th>6</th>\n",
       "      <td>28</td>\n",
       "      <td>management</td>\n",
       "      <td>single</td>\n",
       "      <td>tertiary</td>\n",
       "      <td>no</td>\n",
       "      <td>447</td>\n",
       "      <td>yes</td>\n",
       "      <td>yes</td>\n",
       "      <td>unknown</td>\n",
       "      <td>5</td>\n",
       "      <td>may</td>\n",
       "      <td>217</td>\n",
       "      <td>1</td>\n",
       "      <td>-1</td>\n",
       "      <td>0</td>\n",
       "      <td>unknown</td>\n",
       "      <td>no</td>\n",
       "    </tr>\n",
       "    <tr>\n",
       "      <th>7</th>\n",
       "      <td>42</td>\n",
       "      <td>entrepreneur</td>\n",
       "      <td>divorced</td>\n",
       "      <td>tertiary</td>\n",
       "      <td>yes</td>\n",
       "      <td>2</td>\n",
       "      <td>yes</td>\n",
       "      <td>no</td>\n",
       "      <td>unknown</td>\n",
       "      <td>5</td>\n",
       "      <td>may</td>\n",
       "      <td>380</td>\n",
       "      <td>1</td>\n",
       "      <td>-1</td>\n",
       "      <td>0</td>\n",
       "      <td>unknown</td>\n",
       "      <td>no</td>\n",
       "    </tr>\n",
       "    <tr>\n",
       "      <th>8</th>\n",
       "      <td>58</td>\n",
       "      <td>retired</td>\n",
       "      <td>married</td>\n",
       "      <td>primary</td>\n",
       "      <td>no</td>\n",
       "      <td>121</td>\n",
       "      <td>yes</td>\n",
       "      <td>no</td>\n",
       "      <td>unknown</td>\n",
       "      <td>5</td>\n",
       "      <td>may</td>\n",
       "      <td>50</td>\n",
       "      <td>1</td>\n",
       "      <td>-1</td>\n",
       "      <td>0</td>\n",
       "      <td>unknown</td>\n",
       "      <td>no</td>\n",
       "    </tr>\n",
       "    <tr>\n",
       "      <th>9</th>\n",
       "      <td>43</td>\n",
       "      <td>technician</td>\n",
       "      <td>single</td>\n",
       "      <td>secondary</td>\n",
       "      <td>no</td>\n",
       "      <td>593</td>\n",
       "      <td>yes</td>\n",
       "      <td>no</td>\n",
       "      <td>unknown</td>\n",
       "      <td>5</td>\n",
       "      <td>may</td>\n",
       "      <td>55</td>\n",
       "      <td>1</td>\n",
       "      <td>-1</td>\n",
       "      <td>0</td>\n",
       "      <td>unknown</td>\n",
       "      <td>no</td>\n",
       "    </tr>\n",
       "  </tbody>\n",
       "</table>\n",
       "</div>"
      ],
      "text/plain": [
       "   age           job   marital  education  ... pdays  previous poutcome   y\n",
       "0   58    management   married   tertiary  ...    -1         0  unknown  no\n",
       "1   44    technician    single  secondary  ...    -1         0  unknown  no\n",
       "2   33  entrepreneur   married  secondary  ...    -1         0  unknown  no\n",
       "3   47   blue-collar   married    unknown  ...    -1         0  unknown  no\n",
       "4   33       unknown    single    unknown  ...    -1         0  unknown  no\n",
       "5   35    management   married   tertiary  ...    -1         0  unknown  no\n",
       "6   28    management    single   tertiary  ...    -1         0  unknown  no\n",
       "7   42  entrepreneur  divorced   tertiary  ...    -1         0  unknown  no\n",
       "8   58       retired   married    primary  ...    -1         0  unknown  no\n",
       "9   43    technician    single  secondary  ...    -1         0  unknown  no\n",
       "\n",
       "[10 rows x 17 columns]"
      ]
     },
     "execution_count": 2,
     "metadata": {
      "tags": []
     },
     "output_type": "execute_result"
    }
   ],
   "source": [
    "# to Load dataset \n",
    "ds=pd.read_csv(\"train.csv\",sep=\";\")\n",
    "# to print the first few lines\n",
    "ds.head(10)\n"
   ]
  },
  {
   "cell_type": "code",
   "execution_count": null,
   "metadata": {
    "colab": {
     "base_uri": "https://localhost:8080/"
    },
    "id": "d2iSoOBxtswd",
    "outputId": "8226e5b0-94d3-445f-e626-91e43ea7cb37"
   },
   "outputs": [
    {
     "data": {
      "text/plain": [
       "(45211, 17)"
      ]
     },
     "execution_count": 3,
     "metadata": {
      "tags": []
     },
     "output_type": "execute_result"
    }
   ],
   "source": [
    "#the number of colums and rows in the dataset\n",
    "ds.shape"
   ]
  },
  {
   "cell_type": "markdown",
   "metadata": {
    "id": "qIjS58BMv_G7"
   },
   "source": [
    "**Features**:<br>\n",
    "1 - age (numeric) <br>\n",
    "2 - job: type of job\n",
    "(categorical: 'admin.', 'blue-collar', 'entrepreneur' ,'housemaid', 'management', 'retired', 'self-employed',\n",
    "'services', 'student', 'technician', 'unemployed', 'unknown')<br>\n",
    "3 - marital: marital status (categorical: 'divorced', 'married','single', 'unknown'; note: 'divorced' means\n",
    "divorced or widowed)<br>\n",
    "4 - education (categorical: 'basic.4y', 'basic.6y', 'basic.9y', 'high.school',  'illiterate', 'professional.course',\n",
    "'university.degree', 'unknown')<br>\n",
    "5 - default: has credit in default? (categorical: 'no','yes','unknown')\n",
    "<br>\n",
    "6 - balance: average yearly balance, in euros (numeric)\n",
    "<br>7 - housing: has a housing loan? (categorical: 'no','yes','unknown')\n",
    "<br>8 - loan: has personal loan? (categorical: 'no','yes','unknown')\n",
    "<br>9 - contact: contact communication type (categorical: 'cellular','telephone')\n",
    "<br>10 - month: last contact month of year (categorical: 'jan', 'feb', 'mar', ..., 'nov', 'dec')\n",
    "<br>11 - day_of_week: last contact day of the week (categorical: 'mon','tue','wed','thu','fri')\n",
    "<br>12 - duration: last contact duration, in seconds (numeric). Important note: this attribute highly affects\n",
    "the output target (e.g., if duration=0 then y='no'). Yet, the duration is not known before a call is\n",
    "performed. Also, after the end of the call y is obviously known. Thus, this input should only be included\n",
    "for benchmark purposes and should be discarded if the intention is to have a realistic predictive model.<br>13 - campaign: number of contacts performed during this campaign and for this client (numeric,\n",
    "includes last contact)\n",
    "<br>14 - pdays: number of days that passed by after the client was last contacted from a previous campaign\n",
    "(numeric; 999 means client was not previously contacted)<br>\n",
    "15 - previous: number of contacts performed before this campaign and for this client (numeric)<br>\n",
    "16 - poutcome: outcome of the previous marketing campaign (categorical:\n",
    "'failure','nonexistent','success')<br>\n",
    "**Label**<br>\n",
    "17- y - has the client subscribed a term deposit? (binary: \"yes\",\"no\")"
   ]
  },
  {
   "cell_type": "code",
   "execution_count": null,
   "metadata": {
    "colab": {
     "base_uri": "https://localhost:8080/",
     "height": 297
    },
    "id": "wzHr8mnTtswg",
    "outputId": "35e56e5c-e604-4189-c305-c017419ba77a"
   },
   "outputs": [
    {
     "data": {
      "text/html": [
       "<div>\n",
       "<style scoped>\n",
       "    .dataframe tbody tr th:only-of-type {\n",
       "        vertical-align: middle;\n",
       "    }\n",
       "\n",
       "    .dataframe tbody tr th {\n",
       "        vertical-align: top;\n",
       "    }\n",
       "\n",
       "    .dataframe thead th {\n",
       "        text-align: right;\n",
       "    }\n",
       "</style>\n",
       "<table border=\"1\" class=\"dataframe\">\n",
       "  <thead>\n",
       "    <tr style=\"text-align: right;\">\n",
       "      <th></th>\n",
       "      <th>age</th>\n",
       "      <th>balance</th>\n",
       "      <th>day</th>\n",
       "      <th>duration</th>\n",
       "      <th>campaign</th>\n",
       "      <th>pdays</th>\n",
       "      <th>previous</th>\n",
       "    </tr>\n",
       "  </thead>\n",
       "  <tbody>\n",
       "    <tr>\n",
       "      <th>count</th>\n",
       "      <td>45211.000000</td>\n",
       "      <td>45211.000000</td>\n",
       "      <td>45211.000000</td>\n",
       "      <td>45211.000000</td>\n",
       "      <td>45211.000000</td>\n",
       "      <td>45211.000000</td>\n",
       "      <td>45211.000000</td>\n",
       "    </tr>\n",
       "    <tr>\n",
       "      <th>mean</th>\n",
       "      <td>40.936210</td>\n",
       "      <td>1362.272058</td>\n",
       "      <td>15.806419</td>\n",
       "      <td>258.163080</td>\n",
       "      <td>2.763841</td>\n",
       "      <td>40.197828</td>\n",
       "      <td>0.580323</td>\n",
       "    </tr>\n",
       "    <tr>\n",
       "      <th>std</th>\n",
       "      <td>10.618762</td>\n",
       "      <td>3044.765829</td>\n",
       "      <td>8.322476</td>\n",
       "      <td>257.527812</td>\n",
       "      <td>3.098021</td>\n",
       "      <td>100.128746</td>\n",
       "      <td>2.303441</td>\n",
       "    </tr>\n",
       "    <tr>\n",
       "      <th>min</th>\n",
       "      <td>18.000000</td>\n",
       "      <td>-8019.000000</td>\n",
       "      <td>1.000000</td>\n",
       "      <td>0.000000</td>\n",
       "      <td>1.000000</td>\n",
       "      <td>-1.000000</td>\n",
       "      <td>0.000000</td>\n",
       "    </tr>\n",
       "    <tr>\n",
       "      <th>25%</th>\n",
       "      <td>33.000000</td>\n",
       "      <td>72.000000</td>\n",
       "      <td>8.000000</td>\n",
       "      <td>103.000000</td>\n",
       "      <td>1.000000</td>\n",
       "      <td>-1.000000</td>\n",
       "      <td>0.000000</td>\n",
       "    </tr>\n",
       "    <tr>\n",
       "      <th>50%</th>\n",
       "      <td>39.000000</td>\n",
       "      <td>448.000000</td>\n",
       "      <td>16.000000</td>\n",
       "      <td>180.000000</td>\n",
       "      <td>2.000000</td>\n",
       "      <td>-1.000000</td>\n",
       "      <td>0.000000</td>\n",
       "    </tr>\n",
       "    <tr>\n",
       "      <th>75%</th>\n",
       "      <td>48.000000</td>\n",
       "      <td>1428.000000</td>\n",
       "      <td>21.000000</td>\n",
       "      <td>319.000000</td>\n",
       "      <td>3.000000</td>\n",
       "      <td>-1.000000</td>\n",
       "      <td>0.000000</td>\n",
       "    </tr>\n",
       "    <tr>\n",
       "      <th>max</th>\n",
       "      <td>95.000000</td>\n",
       "      <td>102127.000000</td>\n",
       "      <td>31.000000</td>\n",
       "      <td>4918.000000</td>\n",
       "      <td>63.000000</td>\n",
       "      <td>871.000000</td>\n",
       "      <td>275.000000</td>\n",
       "    </tr>\n",
       "  </tbody>\n",
       "</table>\n",
       "</div>"
      ],
      "text/plain": [
       "                age        balance  ...         pdays      previous\n",
       "count  45211.000000   45211.000000  ...  45211.000000  45211.000000\n",
       "mean      40.936210    1362.272058  ...     40.197828      0.580323\n",
       "std       10.618762    3044.765829  ...    100.128746      2.303441\n",
       "min       18.000000   -8019.000000  ...     -1.000000      0.000000\n",
       "25%       33.000000      72.000000  ...     -1.000000      0.000000\n",
       "50%       39.000000     448.000000  ...     -1.000000      0.000000\n",
       "75%       48.000000    1428.000000  ...     -1.000000      0.000000\n",
       "max       95.000000  102127.000000  ...    871.000000    275.000000\n",
       "\n",
       "[8 rows x 7 columns]"
      ]
     },
     "execution_count": 4,
     "metadata": {
      "tags": []
     },
     "output_type": "execute_result"
    }
   ],
   "source": [
    "# To obtain a summary descriptive statstics about the dataset\n",
    "ds.describe()"
   ]
  },
  {
   "cell_type": "code",
   "execution_count": null,
   "metadata": {
    "colab": {
     "base_uri": "https://localhost:8080/"
    },
    "id": "32wKebBttswh",
    "outputId": "f1d64e1b-4497-4522-94df-bd264e2c5440"
   },
   "outputs": [
    {
     "name": "stdout",
     "output_type": "stream",
     "text": [
      "<class 'pandas.core.frame.DataFrame'>\n",
      "RangeIndex: 45211 entries, 0 to 45210\n",
      "Data columns (total 17 columns):\n",
      " #   Column     Non-Null Count  Dtype \n",
      "---  ------     --------------  ----- \n",
      " 0   age        45211 non-null  int64 \n",
      " 1   job        45211 non-null  object\n",
      " 2   marital    45211 non-null  object\n",
      " 3   education  45211 non-null  object\n",
      " 4   default    45211 non-null  object\n",
      " 5   balance    45211 non-null  int64 \n",
      " 6   housing    45211 non-null  object\n",
      " 7   loan       45211 non-null  object\n",
      " 8   contact    45211 non-null  object\n",
      " 9   day        45211 non-null  int64 \n",
      " 10  month      45211 non-null  object\n",
      " 11  duration   45211 non-null  int64 \n",
      " 12  campaign   45211 non-null  int64 \n",
      " 13  pdays      45211 non-null  int64 \n",
      " 14  previous   45211 non-null  int64 \n",
      " 15  poutcome   45211 non-null  object\n",
      " 16  y          45211 non-null  object\n",
      "dtypes: int64(7), object(10)\n",
      "memory usage: 5.9+ MB\n"
     ]
    }
   ],
   "source": [
    "ds.info();"
   ]
  },
  {
   "cell_type": "markdown",
   "metadata": {
    "id": "BP8GP80b2Eg8"
   },
   "source": [
    "**As we can see that the data contain catigurical and numeric attributes. <br>\n",
    "The numiric are age, balance, day, duration, campaign, pdays and previous.\n",
    "<br> The rest are catigurical.**"
   ]
  },
  {
   "cell_type": "markdown",
   "metadata": {
    "id": "6YFnqkvNtswj"
   },
   "source": [
    "<a id='Data Cleaning'></a>\n",
    "## Data Cleaning"
   ]
  },
  {
   "cell_type": "code",
   "execution_count": null,
   "metadata": {
    "id": "xxWJ9Zn_Z4nV"
   },
   "outputs": [],
   "source": [
    "def clean_ds(dataset):\n",
    "    #Drop all duplicates from the dataset\n",
    "    dataset.drop_duplicates( inplace=True)\n",
    "    #Drop all null values from the dataset\n",
    "    dataset.dropna(axis=0,inplace=True)"
   ]
  },
  {
   "cell_type": "code",
   "execution_count": null,
   "metadata": {
    "colab": {
     "base_uri": "https://localhost:8080/"
    },
    "id": "l8U0lBGJtswe",
    "outputId": "f84206a7-506b-455b-e008-fba6e8fdeca5"
   },
   "outputs": [
    {
     "name": "stdout",
     "output_type": "stream",
     "text": [
      "Data Before cleaning (45211, 17)\n",
      "Data After cleaning (45211, 17)\n"
     ]
    }
   ],
   "source": [
    "print(\"Data Before cleaning\",ds.shape)\n",
    "clean_ds(ds)\n",
    "print(\"Data After cleaning\",ds.shape)"
   ]
  },
  {
   "cell_type": "markdown",
   "metadata": {
    "id": "nD6uO6XWtswf"
   },
   "source": [
    "**From the output, we have known that there are no any duplicated or null values**"
   ]
  },
  {
   "cell_type": "markdown",
   "metadata": {
    "id": "YPu0N5gitswo"
   },
   "source": [
    "<a id='eda'></a>\n",
    "## Data exploration and preprocessing"
   ]
  },
  {
   "cell_type": "markdown",
   "metadata": {
    "id": "iI4kQF94Z4nX"
   },
   "source": [
    "#### Is the data balanced or not?"
   ]
  },
  {
   "cell_type": "code",
   "execution_count": null,
   "metadata": {
    "colab": {
     "base_uri": "https://localhost:8080/",
     "height": 279
    },
    "id": "A9efuEk8463l",
    "outputId": "f543afd3-3f9d-47cc-e662-8ee325bf6602",
    "scrolled": true
   },
   "outputs": [
    {
     "data": {
      "image/png": "[encoded data removed]",
      "text/plain": [
       "<Figure size 432x288 with 1 Axes>"
      ]
     },
     "metadata": {
      "needs_background": "light",
      "tags": []
     },
     "output_type": "display_data"
    }
   ],
   "source": [
    "sns.countplot(x=ds.y,data=ds);"
   ]
  },
  {
   "cell_type": "markdown",
   "metadata": {
    "id": "QW1TexzzZ4nY"
   },
   "source": [
    "**It is obivious that the data is not balanced. <br>\n",
    "After reading about the imbalanced data,we will do the following:<br>**\n",
    "- We will try to keep all samples in the rare class and randomly selecting an equal number of samples in the abundant class\n",
    "- We will try to do oversampling to the data"
   ]
  },
  {
   "cell_type": "code",
   "execution_count": null,
   "metadata": {
    "colab": {
     "base_uri": "https://localhost:8080/"
    },
    "id": "Jiogry3eas4O",
    "outputId": "4fe74f05-26ba-4094-96dc-d57dac2dd409"
   },
   "outputs": [
    {
     "name": "stdout",
     "output_type": "stream",
     "text": [
      "age           int64\n",
      "job          object\n",
      "marital      object\n",
      "education    object\n",
      "default      object\n",
      "balance       int64\n",
      "housing      object\n",
      "loan         object\n",
      "contact      object\n",
      "day           int64\n",
      "month        object\n",
      "duration      int64\n",
      "campaign      int64\n",
      "pdays         int64\n",
      "previous      int64\n",
      "poutcome     object\n",
      "y            object\n",
      "dtype: object\n"
     ]
    }
   ],
   "source": [
    "print(ds.dtypes)"
   ]
  },
  {
   "cell_type": "markdown",
   "metadata": {
    "id": "cqI3qIf7aul0"
   },
   "source": [
    "**As we have seen before there are any object datatype therefore, we will convert them to numerical in order to make it easy for us to train the model.**"
   ]
  },
  {
   "cell_type": "code",
   "execution_count": null,
   "metadata": {
    "id": "Y8D8C7QYZ4nb"
   },
   "outputs": [],
   "source": [
    "Numeric=[\"age\",\"balance\",\"day\",\"duration\",\"pdays\",\"previous\"]\n",
    "catigorical=[\"job\",\"marital\",\"education\",\"default\",\"housing\",\"loan\",\"contact\",\"month\",\"poutcome\"]"
   ]
  },
  {
   "cell_type": "markdown",
   "metadata": {
    "id": "5tjpqBLsZ4nZ"
   },
   "source": [
    "**First I will assign 1 to the people who deposit (y= \"yes\") and 0 to the others (y=\"no\").**"
   ]
  },
  {
   "cell_type": "code",
   "execution_count": null,
   "metadata": {
    "id": "UpUB_FhzZ4na"
   },
   "outputs": [],
   "source": [
    "ds.replace({\"y\":{\"no\": 0,\"yes\":1}}, inplace=True)"
   ]
  },
  {
   "cell_type": "markdown",
   "metadata": {
    "id": "9N6bw5FBZ4nb"
   },
   "source": [
    "**Then I will encode all the catigorical arttributes** "
   ]
  },
  {
   "cell_type": "code",
   "execution_count": null,
   "metadata": {
    "id": "dE7JGSwkZ4nb"
   },
   "outputs": [],
   "source": [
    "def ca_to_num(ds,at):\n",
    "    ds[at] = ds[at].astype('category')\n",
    "    ds[at] = ds[at].cat.codes"
   ]
  },
  {
   "cell_type": "code",
   "execution_count": null,
   "metadata": {
    "id": "PpcR4XhFZ4nc"
   },
   "outputs": [],
   "source": [
    "for i in catigorical:\n",
    "    ca_to_num(ds,i)"
   ]
  },
  {
   "cell_type": "code",
   "execution_count": null,
   "metadata": {
    "colab": {
     "base_uri": "https://localhost:8080/",
     "height": 224
    },
    "id": "jzzQHRe9Z4nc",
    "outputId": "13bf0fcb-4324-4f76-9694-9208adf09217",
    "scrolled": false
   },
   "outputs": [
    {
     "data": {
      "text/html": [
       "<div>\n",
       "<style scoped>\n",
       "    .dataframe tbody tr th:only-of-type {\n",
       "        vertical-align: middle;\n",
       "    }\n",
       "\n",
       "    .dataframe tbody tr th {\n",
       "        vertical-align: top;\n",
       "    }\n",
       "\n",
       "    .dataframe thead th {\n",
       "        text-align: right;\n",
       "    }\n",
       "</style>\n",
       "<table border=\"1\" class=\"dataframe\">\n",
       "  <thead>\n",
       "    <tr style=\"text-align: right;\">\n",
       "      <th></th>\n",
       "      <th>age</th>\n",
       "      <th>job</th>\n",
       "      <th>marital</th>\n",
       "      <th>education</th>\n",
       "      <th>default</th>\n",
       "      <th>balance</th>\n",
       "      <th>housing</th>\n",
       "      <th>loan</th>\n",
       "      <th>contact</th>\n",
       "      <th>day</th>\n",
       "      <th>month</th>\n",
       "      <th>duration</th>\n",
       "      <th>campaign</th>\n",
       "      <th>pdays</th>\n",
       "      <th>previous</th>\n",
       "      <th>poutcome</th>\n",
       "      <th>y</th>\n",
       "    </tr>\n",
       "  </thead>\n",
       "  <tbody>\n",
       "    <tr>\n",
       "      <th>0</th>\n",
       "      <td>58</td>\n",
       "      <td>4</td>\n",
       "      <td>1</td>\n",
       "      <td>2</td>\n",
       "      <td>0</td>\n",
       "      <td>2143</td>\n",
       "      <td>1</td>\n",
       "      <td>0</td>\n",
       "      <td>2</td>\n",
       "      <td>5</td>\n",
       "      <td>8</td>\n",
       "      <td>261</td>\n",
       "      <td>1</td>\n",
       "      <td>-1</td>\n",
       "      <td>0</td>\n",
       "      <td>3</td>\n",
       "      <td>0</td>\n",
       "    </tr>\n",
       "    <tr>\n",
       "      <th>1</th>\n",
       "      <td>44</td>\n",
       "      <td>9</td>\n",
       "      <td>2</td>\n",
       "      <td>1</td>\n",
       "      <td>0</td>\n",
       "      <td>29</td>\n",
       "      <td>1</td>\n",
       "      <td>0</td>\n",
       "      <td>2</td>\n",
       "      <td>5</td>\n",
       "      <td>8</td>\n",
       "      <td>151</td>\n",
       "      <td>1</td>\n",
       "      <td>-1</td>\n",
       "      <td>0</td>\n",
       "      <td>3</td>\n",
       "      <td>0</td>\n",
       "    </tr>\n",
       "    <tr>\n",
       "      <th>2</th>\n",
       "      <td>33</td>\n",
       "      <td>2</td>\n",
       "      <td>1</td>\n",
       "      <td>1</td>\n",
       "      <td>0</td>\n",
       "      <td>2</td>\n",
       "      <td>1</td>\n",
       "      <td>1</td>\n",
       "      <td>2</td>\n",
       "      <td>5</td>\n",
       "      <td>8</td>\n",
       "      <td>76</td>\n",
       "      <td>1</td>\n",
       "      <td>-1</td>\n",
       "      <td>0</td>\n",
       "      <td>3</td>\n",
       "      <td>0</td>\n",
       "    </tr>\n",
       "    <tr>\n",
       "      <th>3</th>\n",
       "      <td>47</td>\n",
       "      <td>1</td>\n",
       "      <td>1</td>\n",
       "      <td>3</td>\n",
       "      <td>0</td>\n",
       "      <td>1506</td>\n",
       "      <td>1</td>\n",
       "      <td>0</td>\n",
       "      <td>2</td>\n",
       "      <td>5</td>\n",
       "      <td>8</td>\n",
       "      <td>92</td>\n",
       "      <td>1</td>\n",
       "      <td>-1</td>\n",
       "      <td>0</td>\n",
       "      <td>3</td>\n",
       "      <td>0</td>\n",
       "    </tr>\n",
       "    <tr>\n",
       "      <th>4</th>\n",
       "      <td>33</td>\n",
       "      <td>11</td>\n",
       "      <td>2</td>\n",
       "      <td>3</td>\n",
       "      <td>0</td>\n",
       "      <td>1</td>\n",
       "      <td>0</td>\n",
       "      <td>0</td>\n",
       "      <td>2</td>\n",
       "      <td>5</td>\n",
       "      <td>8</td>\n",
       "      <td>198</td>\n",
       "      <td>1</td>\n",
       "      <td>-1</td>\n",
       "      <td>0</td>\n",
       "      <td>3</td>\n",
       "      <td>0</td>\n",
       "    </tr>\n",
       "  </tbody>\n",
       "</table>\n",
       "</div>"
      ],
      "text/plain": [
       "   age  job  marital  education  ...  pdays  previous  poutcome  y\n",
       "0   58    4        1          2  ...     -1         0         3  0\n",
       "1   44    9        2          1  ...     -1         0         3  0\n",
       "2   33    2        1          1  ...     -1         0         3  0\n",
       "3   47    1        1          3  ...     -1         0         3  0\n",
       "4   33   11        2          3  ...     -1         0         3  0\n",
       "\n",
       "[5 rows x 17 columns]"
      ]
     },
     "execution_count": 14,
     "metadata": {
      "tags": []
     },
     "output_type": "execute_result"
    }
   ],
   "source": [
    "ds.head()"
   ]
  },
  {
   "cell_type": "code",
   "execution_count": null,
   "metadata": {
    "colab": {
     "base_uri": "https://localhost:8080/"
    },
    "id": "KYXzBx9iZ4nd",
    "outputId": "c80364a2-41b0-4006-e0e4-8ab02cdbb552",
    "scrolled": true
   },
   "outputs": [
    {
     "data": {
      "text/plain": [
       "age          int64\n",
       "job           int8\n",
       "marital       int8\n",
       "education     int8\n",
       "default       int8\n",
       "balance      int64\n",
       "housing       int8\n",
       "loan          int8\n",
       "contact       int8\n",
       "day          int64\n",
       "month         int8\n",
       "duration     int64\n",
       "campaign     int64\n",
       "pdays        int64\n",
       "previous     int64\n",
       "poutcome      int8\n",
       "y            int64\n",
       "dtype: object"
      ]
     },
     "execution_count": 15,
     "metadata": {
      "tags": []
     },
     "output_type": "execute_result"
    }
   ],
   "source": [
    "ds.dtypes"
   ]
  },
  {
   "cell_type": "markdown",
   "metadata": {
    "id": "6mXQqrU6Z4ne"
   },
   "source": [
    "**Now as we can see all the data are numirical**"
   ]
  },
  {
   "cell_type": "code",
   "execution_count": null,
   "metadata": {
    "colab": {
     "base_uri": "https://localhost:8080/"
    },
    "id": "yC2Dq1ygZ4ne",
    "outputId": "2976fe49-85db-44f6-f122-acc1ecac961a"
   },
   "outputs": [
    {
     "data": {
      "text/plain": [
       "age          0.025155\n",
       "job          0.040438\n",
       "marital      0.045588\n",
       "education    0.066241\n",
       "default     -0.022419\n",
       "balance      0.052838\n",
       "housing     -0.139173\n",
       "loan        -0.068185\n",
       "contact     -0.148395\n",
       "day         -0.028348\n",
       "month       -0.024471\n",
       "duration     0.394521\n",
       "campaign    -0.073172\n",
       "pdays        0.103621\n",
       "previous     0.093236\n",
       "poutcome    -0.077840\n",
       "y            1.000000\n",
       "Name: y, dtype: float64"
      ]
     },
     "execution_count": 16,
     "metadata": {
      "tags": []
     },
     "output_type": "execute_result"
    }
   ],
   "source": [
    "ds.corr()[\"y\"]"
   ]
  },
  {
   "cell_type": "code",
   "execution_count": null,
   "metadata": {
    "colab": {
     "base_uri": "https://localhost:8080/"
    },
    "id": "FNq1jKszZ4ne",
    "outputId": "509cfd86-6749-4f3b-aa30-59d8efa03e34"
   },
   "outputs": [
    {
     "data": {
      "text/plain": [
       "['y',\n",
       " 'duration',\n",
       " 'contact',\n",
       " 'housing',\n",
       " 'pdays',\n",
       " 'previous',\n",
       " 'poutcome',\n",
       " 'campaign',\n",
       " 'loan',\n",
       " 'education',\n",
       " 'balance',\n",
       " 'marital',\n",
       " 'job',\n",
       " 'day',\n",
       " 'age',\n",
       " 'month',\n",
       " 'default']"
      ]
     },
     "execution_count": 17,
     "metadata": {
      "tags": []
     },
     "output_type": "execute_result"
    }
   ],
   "source": [
    "d=(dict(ds.corr()[\"y\"]))\n",
    "a=sorted(d, key=lambda dict_key: abs(d[dict_key]),reverse=True)\n",
    "a"
   ]
  },
  {
   "cell_type": "markdown",
   "metadata": {
    "id": "fDaeQxJ4Z4nf"
   },
   "source": [
    "I think it is obivious that the correlation between \"y\" and  (month, default, age and day) is verry low. Which mean that we can drop them "
   ]
  },
  {
   "cell_type": "code",
   "execution_count": null,
   "metadata": {
    "id": "NQZ5nxrLZ4nf"
   },
   "outputs": [],
   "source": [
    "dsall=ds"
   ]
  },
  {
   "cell_type": "code",
   "execution_count": null,
   "metadata": {
    "id": "3sXXyDOAZ4nf"
   },
   "outputs": [],
   "source": [
    "ds.drop({\"default\",\"month\",\"age\",\"day\"},axis=1,inplace=True)"
   ]
  },
  {
   "cell_type": "code",
   "execution_count": null,
   "metadata": {
    "colab": {
     "base_uri": "https://localhost:8080/"
    },
    "id": "FdEAuHHCZ4nf",
    "outputId": "7f060bc9-51a1-4220-e34a-c6295d54d89a",
    "scrolled": false
   },
   "outputs": [
    {
     "name": "stdout",
     "output_type": "stream",
     "text": [
      "job           int8\n",
      "marital       int8\n",
      "education     int8\n",
      "balance      int64\n",
      "housing       int8\n",
      "loan          int8\n",
      "contact       int8\n",
      "duration     int64\n",
      "campaign     int64\n",
      "pdays        int64\n",
      "previous     int64\n",
      "poutcome      int8\n",
      "y            int64\n",
      "dtype: object\n"
     ]
    }
   ],
   "source": [
    "print(ds.dtypes)"
   ]
  },
  {
   "cell_type": "markdown",
   "metadata": {
    "id": "Au4raEL3Z4ng"
   },
   "source": [
    "**As we have seen before there are any object datatype therefore, we will convert them to numerical in order to make it easy for us to train the model.**"
   ]
  },
  {
   "cell_type": "code",
   "execution_count": null,
   "metadata": {
    "id": "FCF2ypVpZ4ng"
   },
   "outputs": [],
   "source": [
    "X = ds.drop('y',axis=1)\n",
    "y = ds.y"
   ]
  },
  {
   "cell_type": "markdown",
   "metadata": {
    "id": "Obe99pGe60H4"
   },
   "source": [
    "<a id='classification'></a>\n",
    "\n",
    "## Approach and methodology"
   ]
  },
  {
   "cell_type": "markdown",
   "metadata": {
    "id": "NLQEqBLmbN3y"
   },
   "source": [
    "First we divided the data set into training set and test set then the random forest approach was applied and we calculated its accuracy and precision.\n",
    "\n",
    "Then AdaBoostClassifier approach was applied and the accuracy and precision were calculated too.\n",
    "\n",
    "Finally, we applied XGBClassifier approach and calculated its accuracy and precision.\n",
    "\n",
    "We compared the three approaches at the end."
   ]
  },
  {
   "cell_type": "markdown",
   "metadata": {
    "id": "j19GuwkOZ4nh"
   },
   "source": [
    "### Letrature Review"
   ]
  },
  {
   "cell_type": "markdown",
   "metadata": {
    "id": "9EA7UnwvZ4nh"
   },
   "source": [
    "In previous papers,they have used LOGISTIC REGRESSION, DECISION TREES, SVM and NEURAL NETWORK. They have reached to 91% as the best accuracy by using Nural netorks. Here, We will try to use different models than the previous used models. We will use RandomForestClassifier, AdaboostClassifier and XgBoostClassifier. Moreover, We care about precision more than ROC as we concern about all the people who will make a deposit (True positive). We want the model to make a correct prediction for all the True positive with mean making false positive near to zero  precision= true positive/(true positive+false positive). We will target a precision score 90%."
   ]
  },
  {
   "cell_type": "markdown",
   "metadata": {
    "id": "UFU3sXq2Z4nh"
   },
   "source": [
    "### Oversamping"
   ]
  },
  {
   "cell_type": "markdown",
   "metadata": {
    "id": "cQHjRcCSZ4nh"
   },
   "source": [
    " Acknoledge from: https://towardsdatascience.com/sampling-techniques-for-extremely-imbalanced-data-part-ii-over-sampling-d61b43bc4879\n",
    " \n",
    "There are three ways to oversampling in imblearn.over_sampling Library.<br><br> The first one is Randomoversampling. It doplicates more samples from the aboundant class with random samping with replacement. However, this method may lead to overfiting. Because many samples of the majority class will not be included in the dataset as the minority class take place of them. <br><br>\n",
    "The second one is Synthetic Minority Oversampling Technique (SMOTE). It generates new samples from the aboundant class based on the feature space similarities between existing aboundant instances. That is happened by finding  the K-nearest neighbors of each aboundant instance. Then randomly selects one of them. Finaly calculate linear interpolations to produce a new minority instance in the neighborhood.\n",
    "<br><br>\n",
    "The third one is Adaptive Synthetic Sampling (ADASYN).It also generate new samples based on the density distributions. It also finds the K-nearest neighbors of each aboundant instance. But it repeats this proces and  adaptively shifts the decision boundary to focus on those samples that are difficult to learn.\n",
    "\n",
    "we will use the smote method to make our data balanced"
   ]
  },
  {
   "cell_type": "code",
   "execution_count": 2,
   "metadata": {
    "colab": {
     "base_uri": "https://localhost:8080/"
    },
    "id": "B49mnUnYZ4ni",
    "outputId": "a207efda-0bbc-477d-c469-cc578790f7fe"
   },
   "outputs": [
    {
     "ename": "NameError",
     "evalue": "name 'X' is not defined",
     "output_type": "error",
     "traceback": [
      "\u001b[1;31m---------------------------------------------------------------------------\u001b[0m",
      "\u001b[1;31mNameError\u001b[0m                                 Traceback (most recent call last)",
      "\u001b[1;32m<ipython-input-2-079dedd456ee>\u001b[0m in \u001b[0;36m<module>\u001b[1;34m\u001b[0m\n\u001b[0;32m      1\u001b[0m \u001b[0msampler\u001b[0m \u001b[1;33m=\u001b[0m \u001b[0mSMOTE\u001b[0m\u001b[1;33m(\u001b[0m\u001b[0msampling_strategy\u001b[0m\u001b[1;33m=\u001b[0m\u001b[1;34m'minority'\u001b[0m\u001b[1;33m,\u001b[0m\u001b[0mrandom_state\u001b[0m\u001b[1;33m=\u001b[0m\u001b[1;36m0\u001b[0m\u001b[1;33m)\u001b[0m\u001b[1;33m\u001b[0m\u001b[1;33m\u001b[0m\u001b[0m\n\u001b[1;32m----> 2\u001b[1;33m \u001b[0mX\u001b[0m\u001b[1;33m,\u001b[0m\u001b[0my\u001b[0m\u001b[1;33m=\u001b[0m\u001b[0msampler\u001b[0m\u001b[1;33m.\u001b[0m\u001b[0mfit_resample\u001b[0m\u001b[1;33m(\u001b[0m\u001b[0mX\u001b[0m\u001b[1;33m,\u001b[0m\u001b[0my\u001b[0m\u001b[1;33m)\u001b[0m\u001b[1;33m\u001b[0m\u001b[1;33m\u001b[0m\u001b[0m\n\u001b[0m\u001b[0;32m      3\u001b[0m \u001b[0mX_train\u001b[0m \u001b[1;33m,\u001b[0m \u001b[0mX_test\u001b[0m \u001b[1;33m,\u001b[0m \u001b[0my_train\u001b[0m \u001b[1;33m,\u001b[0m \u001b[0my_test\u001b[0m \u001b[1;33m=\u001b[0m \u001b[0mtrain_test_split\u001b[0m\u001b[1;33m(\u001b[0m\u001b[0mX\u001b[0m\u001b[1;33m,\u001b[0m\u001b[0my\u001b[0m\u001b[1;33m,\u001b[0m\u001b[0mtest_size\u001b[0m \u001b[1;33m=\u001b[0m \u001b[1;36m0.3\u001b[0m \u001b[1;33m,\u001b[0m \u001b[0mrandom_state\u001b[0m \u001b[1;33m=\u001b[0m \u001b[1;36m10\u001b[0m\u001b[1;33m)\u001b[0m\u001b[1;33m\u001b[0m\u001b[1;33m\u001b[0m\u001b[0m\n\u001b[0;32m      4\u001b[0m \u001b[0my\u001b[0m\u001b[1;33m.\u001b[0m\u001b[0mshape\u001b[0m\u001b[1;33m,\u001b[0m\u001b[0mX\u001b[0m\u001b[1;33m.\u001b[0m\u001b[0mshape\u001b[0m\u001b[1;33m\u001b[0m\u001b[1;33m\u001b[0m\u001b[0m\n",
      "\u001b[1;31mNameError\u001b[0m: name 'X' is not defined"
     ]
    }
   ],
   "source": [
    "sampler = SMOTE(sampling_strategy='minority',random_state=0)\n",
    "X,y=sampler.fit_resample(X,y)\n",
    "X_train , X_test , y_train , y_test = train_test_split(X,y,test_size = 0.3 , random_state = 10)\n",
    "y.shape,X.shape"
   ]
  },
  {
   "cell_type": "code",
   "execution_count": null,
   "metadata": {
    "colab": {
     "base_uri": "https://localhost:8080/"
    },
    "id": "yu1PmbFeZ4nj",
    "outputId": "c1eb6a0d-1b82-49c6-ec8d-9c2a9070ca0a"
   },
   "outputs": [
    {
     "data": {
      "text/plain": [
       "1    39922\n",
       "0    39922\n",
       "dtype: int64"
      ]
     },
     "execution_count": 23,
     "metadata": {
      "tags": []
     },
     "output_type": "execute_result"
    }
   ],
   "source": [
    "pd.DataFrame(y).value_counts()"
   ]
  },
  {
   "cell_type": "markdown",
   "metadata": {
    "id": "NHQcq_AlZ4nj"
   },
   "source": [
    "As we can see that number of the samples has been increased because the SMOTE method generetes samples to balance the data"
   ]
  },
  {
   "cell_type": "markdown",
   "metadata": {
    "id": "-cGfY550Z4nj"
   },
   "source": [
    "**RandomForestClassifier**"
   ]
  },
  {
   "cell_type": "code",
   "execution_count": null,
   "metadata": {
    "colab": {
     "base_uri": "https://localhost:8080/"
    },
    "id": "Ke5tFIKeZ4nj",
    "outputId": "bd446991-14ae-4968-a301-ae8a499fd58e"
   },
   "outputs": [
    {
     "data": {
      "text/plain": [
       "0.892552767821585"
      ]
     },
     "execution_count": 24,
     "metadata": {
      "tags": []
     },
     "output_type": "execute_result"
    }
   ],
   "source": [
    "clf = RandomForestClassifier(random_state=111)\n",
    "clf.fit(X_train,y_train)\n",
    "pred=clf.predict(X_test)\n",
    "precision_score(y_test, pred)"
   ]
  },
  {
   "cell_type": "code",
   "execution_count": null,
   "metadata": {
    "colab": {
     "base_uri": "https://localhost:8080/"
    },
    "id": "5vOccZxbZ4nj",
    "outputId": "1239b6aa-62f1-4b81-d604-729f165e761e"
   },
   "outputs": [
    {
     "data": {
      "text/plain": [
       "0.9102446355514736"
      ]
     },
     "execution_count": 25,
     "metadata": {
      "tags": []
     },
     "output_type": "execute_result"
    }
   ],
   "source": [
    "metrics.accuracy_score(y_test, pred)"
   ]
  },
  {
   "cell_type": "markdown",
   "metadata": {
    "id": "PEwhlm-1Z4nk"
   },
   "source": [
    "**AdaboostClassifier**"
   ]
  },
  {
   "cell_type": "code",
   "execution_count": null,
   "metadata": {
    "colab": {
     "base_uri": "https://localhost:8080/"
    },
    "id": "G6_Cv8iVZ4nk",
    "outputId": "0add3347-043c-491a-aefb-859a8ccf8b78"
   },
   "outputs": [
    {
     "data": {
      "text/plain": [
       "0.8626763434722335"
      ]
     },
     "execution_count": 26,
     "metadata": {
      "tags": []
     },
     "output_type": "execute_result"
    }
   ],
   "source": [
    "clf = AdaBoostClassifier(random_state=111)\n",
    "clf.fit(X_train,y_train)\n",
    "pred=clf.predict(X_test)\n",
    "precision_score(y_test, pred)"
   ]
  },
  {
   "cell_type": "code",
   "execution_count": null,
   "metadata": {
    "colab": {
     "base_uri": "https://localhost:8080/"
    },
    "id": "qeGur9nsZ4nl",
    "outputId": "ccb31a48-9560-459c-cb4c-8f3465386b37"
   },
   "outputs": [
    {
     "data": {
      "text/plain": [
       "0.8700843282959004"
      ]
     },
     "execution_count": 27,
     "metadata": {
      "tags": []
     },
     "output_type": "execute_result"
    }
   ],
   "source": [
    "metrics.accuracy_score(y_test, pred)"
   ]
  },
  {
   "cell_type": "markdown",
   "metadata": {
    "id": "6K3wtq4GZ4nm"
   },
   "source": [
    "**XGBClassifier**"
   ]
  },
  {
   "cell_type": "markdown",
   "metadata": {
    "id": "kC22xhtupjW6"
   },
   "source": [
    "Here is a simple explination about how the XGBOOST WORKING."
   ]
  },
  {
   "cell_type": "markdown",
   "metadata": {
    "id": "zIQybowHp2m2"
   },
   "source": [
    "**There is a diffinition called similarity or quality score.**<br>\n",
    "**It's calculated by squere (the summing of  the residual values) and then divide the result by (thier number + learning rate)** <br>\n",
    "**Residuals is the differce between the observed and the pridected value**\n",
    "<br>\n",
    "**gain= left branch similarity +right branch similarity -root similarity**\n",
    "\n",
    "* At first the XGBoost start from a single leaf of the tree.\n",
    "* Then start with intial pridiction with any value the diffult is 0.5\n",
    "* Calculate the resdual and but the values in the single leaf\n",
    "* Calculate the quality score or the similarity \n",
    "* Then we try to do better by spliting the residuals into groups.\n",
    "* Here we try to find the best split to reduce the residuals and split them into two groups\n",
    "* Then we will have two branch one on the left another on the right\n",
    "* we calculate the similarity score for both branches\n",
    "* then we need to quantify how much better the leaves cluster similar residuals than the root by calculating the gain\n",
    "* then we go into the residuals again and split them and calculate the gain \n",
    "*  and then compare the gain again and see with is better \n",
    "* we do this till find the best fit or reaching the asked spliting number\n"
   ]
  },
  {
   "cell_type": "code",
   "execution_count": null,
   "metadata": {
    "colab": {
     "base_uri": "https://localhost:8080/"
    },
    "id": "CMLisyMqZ4nn",
    "outputId": "9960caa2-cd16-46e4-c619-f318eb7cd718"
   },
   "outputs": [
    {
     "data": {
      "text/plain": [
       "0.8592003777742798"
      ]
     },
     "execution_count": 28,
     "metadata": {
      "tags": []
     },
     "output_type": "execute_result"
    }
   ],
   "source": [
    "clf=XGBClassifier(random_state=11)\n",
    "clf.fit(X_train,y_train)\n",
    "pred=clf.predict(X_test)\n",
    "precision_score(y_test, pred)"
   ]
  },
  {
   "cell_type": "code",
   "execution_count": null,
   "metadata": {
    "colab": {
     "base_uri": "https://localhost:8080/"
    },
    "id": "jlU6AiRKZ4no",
    "outputId": "86af8254-a810-48bf-aca8-87c19d04ff86"
   },
   "outputs": [
    {
     "data": {
      "text/plain": [
       "0.8798113050012524"
      ]
     },
     "execution_count": 29,
     "metadata": {
      "tags": []
     },
     "output_type": "execute_result"
    }
   ],
   "source": [
    "metrics.accuracy_score(y_test, pred)"
   ]
  },
  {
   "cell_type": "markdown",
   "metadata": {
    "id": "TF1OowQtZ4np"
   },
   "source": [
    "**RandomForest with hyperparameters tuning**"
   ]
  },
  {
   "cell_type": "markdown",
   "metadata": {
    "id": "fU_eCcldZ4np"
   },
   "source": [
    "**Important note:**<Br>\n",
    "We tried to use many parameters. However, we found that only n_estimators and max_depth can make the model do better"
   ]
  },
  {
   "cell_type": "code",
   "execution_count": null,
   "metadata": {
    "colab": {
     "base_uri": "https://localhost:8080/"
    },
    "id": "zqq8HtGnZ4np",
    "outputId": "ad73064b-f46a-4b8c-e5d5-967d2c75b8c4"
   },
   "outputs": [
    {
     "name": "stdout",
     "output_type": "stream",
     "text": [
      "precision_score: 0.8924594336621062\n"
     ]
    }
   ],
   "source": [
    "clf3 = RandomForestClassifier(max_depth=50,n_estimators=150,oob_score=True,random_state=111)\n",
    "clf3.fit(X_train,y_train)\n",
    "pred = clf3.predict(X_test)\n",
    "print(\"precision_score:\",precision_score(y_test, pred))"
   ]
  },
  {
   "cell_type": "code",
   "execution_count": null,
   "metadata": {
    "colab": {
     "base_uri": "https://localhost:8080/"
    },
    "id": "nGAriTumZ4nq",
    "outputId": "c5ef8d2f-aed7-47bf-eb59-e45b68ed2477",
    "scrolled": false
   },
   "outputs": [
    {
     "data": {
      "text/plain": [
       "0.910703849044001"
      ]
     },
     "execution_count": 31,
     "metadata": {
      "tags": []
     },
     "output_type": "execute_result"
    }
   ],
   "source": [
    "metrics.accuracy_score(y_test, pred)"
   ]
  },
  {
   "cell_type": "markdown",
   "metadata": {
    "id": "uMNbXzA0Z4nq"
   },
   "source": [
    "**AdaBoostClassifier with hyberparameter tuning**"
   ]
  },
  {
   "cell_type": "markdown",
   "metadata": {
    "id": "sidVW1lbuxcP"
   },
   "source": [
    "Here, we aslo tried many parameters with different values"
   ]
  },
  {
   "cell_type": "code",
   "execution_count": null,
   "metadata": {
    "colab": {
     "base_uri": "https://localhost:8080/"
    },
    "id": "NYuxR1SUZ4nr",
    "outputId": "8b6bc1d8-e3b7-46ac-e7ea-38ad986edcd2"
   },
   "outputs": [
    {
     "name": "stdout",
     "output_type": "stream",
     "text": [
      "precision_score: 0.8929795202805004\n"
     ]
    }
   ],
   "source": [
    "clf2 = AdaBoostClassifier(base_estimator=clf3,n_estimators = 150,learning_rate=0.12,random_state=101)\n",
    "clf2.fit(X_train,y_train)\n",
    "pred=clf2.predict(X_test)\n",
    "print(\"precision_score:\",precision_score(y_test, pred))"
   ]
  },
  {
   "cell_type": "code",
   "execution_count": null,
   "metadata": {
    "colab": {
     "base_uri": "https://localhost:8080/"
    },
    "id": "uyLtrT3-Z4ns",
    "outputId": "139aea7d-b3ca-47f2-dcec-2a7f4c8e79a3"
   },
   "outputs": [
    {
     "data": {
      "text/plain": [
       "0.9104951156383068"
      ]
     },
     "execution_count": 100,
     "metadata": {
      "tags": []
     },
     "output_type": "execute_result"
    }
   ],
   "source": [
    "metrics.accuracy_score(y_test, pred)"
   ]
  },
  {
   "cell_type": "markdown",
   "metadata": {
    "id": "6C5c0e1zZ4ns"
   },
   "source": [
    "**XGBClassifier with hyberparameter tuning**"
   ]
  },
  {
   "cell_type": "code",
   "execution_count": null,
   "metadata": {
    "colab": {
     "base_uri": "https://localhost:8080/"
    },
    "id": "mUATa2A-Z4nt",
    "outputId": "f800f3da-9ef2-44bf-fd67-4b64d25f9cc6"
   },
   "outputs": [
    {
     "name": "stdout",
     "output_type": "stream",
     "text": [
      "precision_score: 0.9080054491545797\n"
     ]
    }
   ],
   "source": [
    "cls=XGBClassifier(colsample_bytree= 0.7, learning_rate= 0.2,max_depth=100,min_child_weight=0.9,\n",
    "                  n_estimators=100,subsample= 0.7,random_state=11)\n",
    "cls.fit(X_train,y_train)\n",
    "pred=cls.predict(X_test)\n",
    "print(\"precision_score:\",precision_score(y_test, pred))"
   ]
  },
  {
   "cell_type": "code",
   "execution_count": null,
   "metadata": {
    "colab": {
     "base_uri": "https://localhost:8080/"
    },
    "id": "E_XN8OLVZ4nu",
    "outputId": "641afbf9-f48e-44e5-e3d6-6290fa9267a6"
   },
   "outputs": [
    {
     "data": {
      "text/plain": [
       "0.9238540536027385"
      ]
     },
     "execution_count": 116,
     "metadata": {
      "tags": []
     },
     "output_type": "execute_result"
    }
   ],
   "source": [
    "metrics.accuracy_score(y_test, pred)"
   ]
  },
  {
   "cell_type": "markdown",
   "metadata": {
    "id": "fs228jCYWBlL"
   },
   "source": [
    "# Discussion and analysis "
   ]
  },
  {
   "cell_type": "markdown",
   "metadata": {
    "id": "o4OZcAUjwKCJ"
   },
   "source": [
    "At first, the accuracy of RandomForestClassifier, XGBClassifier and AdaBoostClassifier was 91%, 88% and 87 respectivly. After hyperparameters tunning the accuracy becomes 91.1% (RandomForestClassifier) ,91% (AdaBoostClassifier) and 92.4% (XGBClassifier)."
   ]
  },
  {
   "cell_type": "markdown",
   "metadata": {
    "id": "_9vWtwEDqzPF"
   },
   "source": [
    "We finaly found that XGboost Clasifier is the best model. This model gives an accuracny 92.4 %. "
   ]
  },
  {
   "cell_type": "markdown",
   "metadata": {
    "id": "I3si50Q0vesg"
   },
   "source": [
    "## Ethical considerations"
   ]
  },
  {
   "cell_type": "markdown",
   "metadata": {
    "id": "EaJZMSTVvlwQ"
   },
   "source": [
    "\n",
    "1. **Data**\n",
    "\n",
    "Data was collected from an open-sourced, free source. It was collected from bank clients in Portuguese. These data are collected randomly which will ensure fairness while training and testing the model. \n",
    "\n",
    "Also, The correlation between the different features and the target was calculated and the features with low correlation were neglected during the training of model (e.g. \"default\",\"month\",\"age\",\"day)\n",
    "\n",
    "\n",
    "2.   **The algorithm**\n",
    "\n",
    "The algorithms we applied are free sourced and available in python libraries which can be accessed by anyone (No intellectual property theft)\n",
    "3.  **The results:**\n",
    "\n",
    "It was clear that the data is biased as the no answers are much larger than the yes answers (unbalanced data). So in order to get accurate results, some processing was done first before training and testing the model.\n"
   ]
  },
  {
   "cell_type": "markdown",
   "metadata": {
    "id": "Hi-hzI4MWLNR"
   },
   "source": [
    "# Professional responsibility and accountability"
   ]
  },
  {
   "cell_type": "markdown",
   "metadata": {
    "id": "TovI3Aox4Q0T"
   },
   "source": [
    "We are supposed to recheck the concept drift in our models which refers to the unknown and hidden relationship between inputs and output variables.\n",
    "\n",
    "There are some decisions required by the machine learning practitioner to deal with the concept drift such as (Future assumption about the data source, Possible change patterns,Mechanisms adaptivity, Model selection based on particular parametrization)\n",
    "\n",
    "To address the concept drift, we can take many approaches\n",
    "\n",
    "1. Do Nothing (Static Model)\n",
    "2. Periodically Re-Fit\n",
    "3. Periodically Update\n",
    "4. Weight important data\n",
    "5. Learn The Change\n",
    "6. Data Preparation for the change\n"
   ]
  },
  {
   "cell_type": "markdown",
   "metadata": {
    "id": "jalvqNBbtsw5"
   },
   "source": [
    "<a id='conclusions'></a>\n",
    "## Conclusions\n",
    "\n",
    "\n",
    "\n"
   ]
  },
  {
   "cell_type": "markdown",
   "metadata": {
    "id": "gReKhNlOfAP3"
   },
   "source": [
    "We can see that we have made a relatively efficient recommendation system for the bank marketing team. The recommendation system was based on a Random Forest ML model as it appered to be more appropriate logically. However, we tried other models like AdaBoost Classifier and XGB Classifier and the XGB showed the best results. It managed to achieve accuracy of 92.4%.\n"
   ]
  }
 ],
 "metadata": {
  "accelerator": "GPU",
  "colab": {
   "collapsed_sections": [],
   "name": "Final.ipynb",
   "provenance": [],
   "toc_visible": true
  },
  "kernelspec": {
   "display_name": "Python 3",
   "language": "python",
   "name": "python3"
  },
  "language_info": {
   "codemirror_mode": {
    "name": "ipython",
    "version": 3
   },
   "file_extension": ".py",
   "mimetype": "text/x-python",
   "name": "python",
   "nbconvert_exporter": "python",
   "pygments_lexer": "ipython3",
   "version": "3.8.5"
  }
 },
 "nbformat": 4,
 "nbformat_minor": 1
}
